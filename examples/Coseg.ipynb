{
 "cells": [
  {
   "cell_type": "markdown",
   "metadata": {},
   "source": [
    "# Coseg exeperiment\n",
    "\n",
    "Due to size limitation, we only include the super pixels version (which is in the supplemantry), also, we only display 1 frame, as the translation from super pixels to pixel is memory heavy (3MB per frame)."
   ]
  },
  {
   "cell_type": "code",
   "execution_count": 2,
   "metadata": {},
   "outputs": [
    {
     "name": "stderr",
     "output_type": "stream",
     "text": [
      "┌ Info: Precompiling Images [916415d5-f1e6-5110-898d-aaa5f9f070e0]\n",
      "└ @ Base loading.jl:1278\n"
     ]
    }
   ],
   "source": [
    "using Images\n",
    "using Distributed\n",
    "using NPZ\n"
   ]
  },
  {
   "cell_type": "markdown",
   "metadata": {},
   "source": [
    "#### Data Loading and preprocessing"
   ]
  },
  {
   "cell_type": "code",
   "execution_count": 4,
   "metadata": {},
   "outputs": [
    {
     "name": "stdout",
     "output_type": "stream",
     "text": [
      "Any[2, 11, 39, 46, 25, 42, 29, 8, 20, 14, 31, 33, 18, 26, 35, 17, 49, 44, 4, 37, 45, 13, 30, 1, 47, 32, 50, 40, 7, 9, 43, 34, 3, 38, 36, 48, 12, 16, 21, 10, 19, 22, 6, 24, 28, 5, 23, 27, 41, 15]\n"
     ]
    }
   ],
   "source": [
    "data = Dict()\n",
    "for i=1:50\n",
    "    group_data = copy(npzread(\"DATA/coseg/frame\" * string(i) * \".npy\")')\n",
    "    group_data[1:3,:] ./= 25\n",
    "    group_data[4:5,:] ./= 250\n",
    "    data[i] = group_data\n",
    "end\n",
    "\n",
    "pixels_to_super1 = npzread(\"DATA/coseg/pixels_to_super1.npy\")\n",
    "pixels_to_super2 = npzread(\"DATA/coseg/pixels_to_super2.npy\")\n",
    "pixels_to_super3 = npzread(\"DATA/coseg/pixels_to_super3.npy\")\n",
    "\n",
    "println(keys(data))"
   ]
  },
  {
   "cell_type": "code",
   "execution_count": 7,
   "metadata": {},
   "outputs": [
    {
     "name": "stderr",
     "output_type": "stream",
     "text": [
      "┌ Warning: The call to compilecache failed to create a usable precompiled cache file for VersatileHDPMixtureModels [cb401d7d-c4f9-4284-af24-a1eca280e8e8]\n",
      "│   exception = Required dependency JLD2 [033835bb-8acc-5ee8-8aae-3f567f8a3819] failed to load from a cache file.\n",
      "└ @ Base loading.jl:1042\n",
      "┌ Warning: The call to compilecache failed to create a usable precompiled cache file for VersatileHDPMixtureModels [cb401d7d-c4f9-4284-af24-a1eca280e8e8]\n",
      "│   exception = Required dependency JLD2 [033835bb-8acc-5ee8-8aae-3f567f8a3819] failed to load from a cache file.\n",
      "└ @ Base loading.jl:1042\n",
      "┌ Warning: The call to compilecache failed to create a usable precompiled cache file for VersatileHDPMixtureModels [cb401d7d-c4f9-4284-af24-a1eca280e8e8]\n",
      "│   exception = Required dependency JLD2 [033835bb-8acc-5ee8-8aae-3f567f8a3819] failed to load from a cache file.\n",
      "└ @ Base loading.jl:1042\n",
      "┌ Warning: The call to compilecache failed to create a usable precompiled cache file for VersatileHDPMixtureModels [cb401d7d-c4f9-4284-af24-a1eca280e8e8]\n",
      "│   exception = Required dependency JLD2 [033835bb-8acc-5ee8-8aae-3f567f8a3819] failed to load from a cache file.\n",
      "└ @ Base loading.jl:1042\n"
     ]
    }
   ],
   "source": [
    "Pkg.instantiate()\n",
    "\n",
    "using Distributed\n",
    "addprocs(4)\n",
    "@everywhere using VersatileHDPMixtureModels"
   ]
  },
  {
   "cell_type": "code",
   "execution_count": 8,
   "metadata": {},
   "outputs": [
    {
     "ename": "LoadError",
     "evalue": "UndefVarError: I not defined",
     "output_type": "error",
     "traceback": [
      "UndefVarError: I not defined",
      "",
      "Stacktrace:",
      " [1] top-level scope at In[8]:8",
      " [2] include_string(::Function, ::Module, ::String, ::String) at ./loading.jl:1091"
     ]
    }
   ],
   "source": [
    "global_hyper_params = niw_hyperparams(1.0,\n",
    "    [47.56,45.40,27.82] ./ 25,\n",
    "    9.0,\n",
    "    [[0.8662817 0.78323282 0.41225376];\n",
    "        [0.78323282 0.74170384 0.50340258];\n",
    "        [0.41225376 0.50340258 0.79185577]]*1.0)\n",
    "\n",
    "local_hyper_params = niw_hyperparams(1.0,\n",
    "    [217.857,511.084] ./ 250,\n",
    "    5.0,\n",
    "    Matrix{Float64}(I, 2, 2)*0.2)"
   ]
  },
  {
   "cell_type": "code",
   "execution_count": null,
   "metadata": {},
   "outputs": [],
   "source": [
    "hdp, history = vhdp_fit(data,3,10.0,100.0,10.0,global_hyper_params,local_hyper_params,150)\n",
    "color_means = [(x.cluster_params.cluster_params.distribution.μ*25)/255 for x in hdp.global_clusters]\n",
    "glabels = create_global_labels(hdp.groups_dict[1])\n",
    "img = zeros(size(pixels_to_super1,1),size(pixels_to_super1,2),3)\n",
    "for i=1:size(pixels_to_super1,1)\n",
    "    for j=1:size(pixels_to_super1,2)\n",
    "        img[i,j,:] = color_means[glabels[(pixels_to_super1)[i,j]+1]]\n",
    "    end\n",
    "end\n",
    "image1 = img[:,:,[3,2,1]]\n",
    "image1 = permutedims(image1,[3,1,2])\n",
    "glabels = create_global_labels(hdp.groups_dict[2])\n",
    "img = zeros(size(pixels_to_super2,1),size(pixels_to_super2,2),3)\n",
    "for i=1:size(pixels_to_super2,1)\n",
    "    for j=1:size(pixels_to_super2,2)\n",
    "        img[i,j,:] = color_means[glabels[(pixels_to_super2)[i,j]+1]]\n",
    "    end\n",
    "end\n",
    "image2 = img[:,:,[3,2,1]]\n",
    "image2 = permutedims(image2,[3,1,2])\n",
    "\n",
    "glabels = create_global_labels(hdp.groups_dict[3])\n",
    "img = zeros(size(pixels_to_super3,1),size(pixels_to_super3,2),3)\n",
    "for i=1:size(pixels_to_super3,1)\n",
    "    for j=1:size(pixels_to_super3,2)\n",
    "        img[i,j,:] = color_means[glabels[(pixels_to_super3)[i,j]+1]]\n",
    "    end\n",
    "end\n",
    "image3 = img[:,:,[3,2,1]]\n",
    "image3 = permutedims(image3,[3,1,2])\n"
   ]
  },
  {
   "cell_type": "code",
   "execution_count": null,
   "metadata": {},
   "outputs": [],
   "source": [
    "colorview(RGB,image1)"
   ]
  },
  {
   "cell_type": "code",
   "execution_count": null,
   "metadata": {},
   "outputs": [],
   "source": [
    "colorview(RGB,image2)"
   ]
  },
  {
   "cell_type": "code",
   "execution_count": null,
   "metadata": {},
   "outputs": [],
   "source": [
    "colorview(RGB,image3)"
   ]
  }
 ],
 "metadata": {
  "kernelspec": {
   "display_name": "Julia 1.5.2",
   "language": "julia",
   "name": "julia-1.5"
  },
  "language_info": {
   "file_extension": ".jl",
   "mimetype": "application/julia",
   "name": "julia",
   "version": "1.5.2"
  }
 },
 "nbformat": 4,
 "nbformat_minor": 2
}
