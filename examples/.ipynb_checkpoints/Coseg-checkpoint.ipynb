{
 "cells": [
  {
   "cell_type": "markdown",
   "metadata": {},
   "source": [
    "# Coseg exeperiment\n",
    "\n",
    "Due to size limitation, we only include the super pixels version (which is in the supplemantry), also, we only display 1 frame, as the translation from super pixels to pixel is memory heavy (3MB per frame)."
   ]
  },
  {
   "cell_type": "code",
   "execution_count": 2,
   "metadata": {},
   "outputs": [
    {
     "name": "stderr",
     "output_type": "stream",
     "text": [
      "┌ Info: Precompiling Images [916415d5-f1e6-5110-898d-aaa5f9f070e0]\n",
      "└ @ Base loading.jl:1278\n"
     ]
    }
   ],
   "source": [
    "using Images\n",
    "using Distributed\n",
    "using NPZ\n"
   ]
  },
  {
   "cell_type": "markdown",
   "metadata": {},
   "source": [
    "#### Data Loading and preprocessing"
   ]
  },
  {
   "cell_type": "code",
   "execution_count": 4,
   "metadata": {},
   "outputs": [
    {
     "name": "stdout",
     "output_type": "stream",
     "text": [
      "Any[2, 11, 39, 46, 25, 42, 29, 8, 20, 14, 31, 33, 18, 26, 35, 17, 49, 44, 4, 37, 45, 13, 30, 1, 47, 32, 50, 40, 7, 9, 43, 34, 3, 38, 36, 48, 12, 16, 21, 10, 19, 22, 6, 24, 28, 5, 23, 27, 41, 15]\n"
     ]
    }
   ],
   "source": [
    "data = Dict()\n",
    "for i=1:50\n",
    "    group_data = copy(npzread(\"DATA/coseg/frame\" * string(i) * \".npy\")')\n",
    "    group_data[1:3,:] ./= 25\n",
    "    group_data[4:5,:] ./= 250\n",
    "    data[i] = group_data\n",
    "end\n",
    "\n",
    "pixels_to_super1 = npzread(\"DATA/coseg/pixels_to_super1.npy\")\n",
    "pixels_to_super2 = npzread(\"DATA/coseg/pixels_to_super2.npy\")\n",
    "pixels_to_super3 = npzread(\"DATA/coseg/pixels_to_super3.npy\")\n",
    "\n",
    "println(keys(data))"
   ]
  },
  {
   "cell_type": "code",
   "execution_count": 5,
   "metadata": {},
   "outputs": [
    {
     "name": "stderr",
     "output_type": "stream",
     "text": [
      "┌ Info: Precompiling VersatileHDPMixtureModels [cb401d7d-c4f9-4284-af24-a1eca280e8e8]\n",
      "└ @ Base loading.jl:1278\n",
      "WARNING: Method definition (::Type{VersatileHDPMixtureModels.model_hyper_params})(VersatileHDPMixtureModels.distribution_hyper_params, Any, Float64, Float64, Float64, Float64, Float64, Int64, Int64) in module VersatileHDPMixtureModels at /Users/irita/Documents/Master/Research/PhD_research/BNP/Code - Or/VersatileHDPMixtureModels.jl/src/ds.jl:10 overwritten at /Users/irita/Documents/Master/Research/PhD_research/BNP/Code - Or/VersatileHDPMixtureModels.jl/src/ds.jl:10.\n",
      "  ** incremental compilation may be fatally broken for this module **\n",
      "\n",
      "WARNING: Method definition (::Type{VersatileHDPMixtureModels.model_hyper_params})(Any, Any, Any, Any, Any, Any, Any, Any, Any) in module VersatileHDPMixtureModels at /Users/irita/Documents/Master/Research/PhD_research/BNP/Code - Or/VersatileHDPMixtureModels.jl/src/ds.jl:10 overwritten at /Users/irita/Documents/Master/Research/PhD_research/BNP/Code - Or/VersatileHDPMixtureModels.jl/src/ds.jl:10.\n",
      "  ** incremental compilation may be fatally broken for this module **\n",
      "\n",
      "WARNING: Method definition (::Type{VersatileHDPMixtureModels.cluster_parameters})(VersatileHDPMixtureModels.distribution_hyper_params, VersatileHDPMixtureModels.distibution_sample, VersatileHDPMixtureModels.sufficient_statistics, VersatileHDPMixtureModels.distribution_hyper_params) in module VersatileHDPMixtureModels at /Users/irita/Documents/Master/Research/PhD_research/BNP/Code - Or/VersatileHDPMixtureModels.jl/src/ds.jl:22 overwritten at /Users/irita/Documents/Master/Research/PhD_research/BNP/Code - Or/VersatileHDPMixtureModels.jl/src/ds.jl:22.\n",
      "  ** incremental compilation may be fatally broken for this module **\n",
      "\n",
      "WARNING: Method definition (::Type{VersatileHDPMixtureModels.cluster_parameters})(Any, Any, Any, Any) in module VersatileHDPMixtureModels at /Users/irita/Documents/Master/Research/PhD_research/BNP/Code - Or/VersatileHDPMixtureModels.jl/src/ds.jl:22 overwritten at /Users/irita/Documents/Master/Research/PhD_research/BNP/Code - Or/VersatileHDPMixtureModels.jl/src/ds.jl:22.\n",
      "  ** incremental compilation may be fatally broken for this module **\n",
      "\n",
      "WARNING: Method definition (::Type{VersatileHDPMixtureModels.splittable_cluster_params})(VersatileHDPMixtureModels.cluster_parameters, VersatileHDPMixtureModels.cluster_parameters, VersatileHDPMixtureModels.cluster_parameters, AbstractArray{Float64, 1}, Bool, AbstractArray{Float64, 1}) in module VersatileHDPMixtureModels at /Users/irita/Documents/Master/Research/PhD_research/BNP/Code - Or/VersatileHDPMixtureModels.jl/src/ds.jl:29 overwritten at /Users/irita/Documents/Master/Research/PhD_research/BNP/Code - Or/VersatileHDPMixtureModels.jl/src/ds.jl:29.\n",
      "  ** incremental compilation may be fatally broken for this module **\n",
      "\n",
      "WARNING: Method definition (::Type{VersatileHDPMixtureModels.splittable_cluster_params})(Any, Any, Any, Any, Any, Any) in module VersatileHDPMixtureModels at /Users/irita/Documents/Master/Research/PhD_research/BNP/Code - Or/VersatileHDPMixtureModels.jl/src/ds.jl:29 overwritten at /Users/irita/Documents/Master/Research/PhD_research/BNP/Code - Or/VersatileHDPMixtureModels.jl/src/ds.jl:29.\n",
      "  ** incremental compilation may be fatally broken for this module **\n",
      "\n",
      "WARNING: Method definition (::Type{VersatileHDPMixtureModels.global_cluster})(VersatileHDPMixtureModels.splittable_cluster_params, Int64, Int64, Int64, Int64, AbstractArray{Int64, 1}) in module VersatileHDPMixtureModels at /Users/irita/Documents/Master/Research/PhD_research/BNP/Code - Or/VersatileHDPMixtureModels.jl/src/ds.jl:38 overwritten at /Users/irita/Documents/Master/Research/PhD_research/BNP/Code - Or/VersatileHDPMixtureModels.jl/src/ds.jl:38.\n",
      "  ** incremental compilation may be fatally broken for this module **\n",
      "\n",
      "WARNING: Method definition (::Type{VersatileHDPMixtureModels.global_cluster})(Any, Any, Any, Any, Any, Any) in module VersatileHDPMixtureModels at /Users/irita/Documents/Master/Research/PhD_research/BNP/Code - Or/VersatileHDPMixtureModels.jl/src/ds.jl:38 overwritten at /Users/irita/Documents/Master/Research/PhD_research/BNP/Code - Or/VersatileHDPMixtureModels.jl/src/ds.jl:38.\n",
      "  ** incremental compilation may be fatally broken for this module **\n",
      "\n",
      "WARNING: Method definition (::Type{VersatileHDPMixtureModels.local_cluster})(VersatileHDPMixtureModels.splittable_cluster_params, Int64, Int64, Int64, Float64, Float64, Int64, Int64, AbstractArray{Int64, 1}) in module VersatileHDPMixtureModels at /Users/irita/Documents/Master/Research/PhD_research/BNP/Code - Or/VersatileHDPMixtureModels.jl/src/ds.jl:47 overwritten at /Users/irita/Documents/Master/Research/PhD_research/BNP/Code - Or/VersatileHDPMixtureModels.jl/src/ds.jl:47.\n",
      "  ** incremental compilation may be fatally broken for this module **\n",
      "\n",
      "WARNING: Method definition (::Type{VersatileHDPMixtureModels.local_cluster})(Any, Any, Any, Any, Any, Any, Any, Any, Any) in module VersatileHDPMixtureModels at /Users/irita/Documents/Master/Research/PhD_research/BNP/Code - Or/VersatileHDPMixtureModels.jl/src/ds.jl:47 overwritten at /Users/irita/Documents/Master/Research/PhD_research/BNP/Code - Or/VersatileHDPMixtureModels.jl/src/ds.jl:47.\n",
      "  ** incremental compilation may be fatally broken for this module **\n",
      "\n",
      "WARNING: Method definition (::Type{VersatileHDPMixtureModels.local_group})(VersatileHDPMixtureModels.model_hyper_params, AbstractArray{Float64, 2}, AbstractArray{Int64, 2}, AbstractArray{Int64, 2}, Array{VersatileHDPMixtureModels.local_cluster, 1}, Array{Float64, 1}, Int64) in module VersatileHDPMixtureModels at /Users/irita/Documents/Master/Research/PhD_research/BNP/Code - Or/VersatileHDPMixtureModels.jl/src/ds.jl:59 overwritten at /Users/irita/Documents/Master/Research/PhD_research/BNP/Code - Or/VersatileHDPMixtureModels.jl/src/ds.jl:59.\n",
      "  ** incremental compilation may be fatally broken for this module **\n",
      "\n",
      "WARNING: Method definition (::Type{VersatileHDPMixtureModels.local_group})(Any, Any, Any, Any, Any, Any, Any) in module VersatileHDPMixtureModels at /Users/irita/Documents/Master/Research/PhD_research/BNP/Code - Or/VersatileHDPMixtureModels.jl/src/ds.jl:59 overwritten at /Users/irita/Documents/Master/Research/PhD_research/BNP/Code - Or/VersatileHDPMixtureModels.jl/src/ds.jl:59.\n",
      "  ** incremental compilation may be fatally broken for this module **\n",
      "\n",
      "WARNING: Method definition (::Type{VersatileHDPMixtureModels.local_group_stats})(AbstractArray{Int64, 2}, AbstractArray{Int64, 2}, Array{VersatileHDPMixtureModels.local_cluster, 1}) in module VersatileHDPMixtureModels at /Users/irita/Documents/Master/Research/PhD_research/BNP/Code - Or/VersatileHDPMixtureModels.jl/src/ds.jl:69 overwritten at /Users/irita/Documents/Master/Research/PhD_research/BNP/Code - Or/VersatileHDPMixtureModels.jl/src/ds.jl:69.\n",
      "  ** incremental compilation may be fatally broken for this module **\n",
      "\n",
      "WARNING: Method definition (::Type{VersatileHDPMixtureModels.local_group_stats})(Any, Any, Any) in module VersatileHDPMixtureModels at /Users/irita/Documents/Master/Research/PhD_research/BNP/Code - Or/VersatileHDPMixtureModels.jl/src/ds.jl:69 overwritten at /Users/irita/Documents/Master/Research/PhD_research/BNP/Code - Or/VersatileHDPMixtureModels.jl/src/ds.jl:69.\n",
      "  ** incremental compilation may be fatally broken for this module **\n",
      "\n",
      "WARNING: Method definition (::Type{VersatileHDPMixtureModels.hdp_shared_features})(VersatileHDPMixtureModels.model_hyper_params, Base.Dict{K, V} where V where K, Array{VersatileHDPMixtureModels.global_cluster, 1}, AbstractArray{Float64, 1}) in module VersatileHDPMixtureModels at /Users/irita/Documents/Master/Research/PhD_research/BNP/Code - Or/VersatileHDPMixtureModels.jl/src/ds.jl:76 overwritten at /Users/irita/Documents/Master/Research/PhD_research/BNP/Code - Or/VersatileHDPMixtureModels.jl/src/ds.jl:76.\n",
      "  ** incremental compilation may be fatally broken for this module **\n",
      "\n",
      "WARNING: Method definition (::Type{VersatileHDPMixtureModels.hdp_shared_features})(Any, Any, Any, Any) in module VersatileHDPMixtureModels at /Users/irita/Documents/Master/Research/PhD_research/BNP/Code - Or/VersatileHDPMixtureModels.jl/src/ds.jl:76 overwritten at /Users/irita/Documents/Master/Research/PhD_research/BNP/Code - Or/VersatileHDPMixtureModels.jl/src/ds.jl:76.\n",
      "  ** incremental compilation may be fatally broken for this module **\n",
      "\n",
      "WARNING: Method definition copy_local_cluster(VersatileHDPMixtureModels.local_cluster) in module VersatileHDPMixtureModels at /Users/irita/Documents/Master/Research/PhD_research/BNP/Code - Or/VersatileHDPMixtureModels.jl/src/ds.jl:82 overwritten at /Users/irita/Documents/Master/Research/PhD_research/BNP/Code - Or/VersatileHDPMixtureModels.jl/src/ds.jl:82.\n",
      "  ** incremental compilation may be fatally broken for this module **\n",
      "\n",
      "WARNING: Method definition update_group_from_stats!(VersatileHDPMixtureModels.local_group, VersatileHDPMixtureModels.local_group_stats) in module VersatileHDPMixtureModels at /Users/irita/Documents/Master/Research/PhD_research/BNP/Code - Or/VersatileHDPMixtureModels.jl/src/ds.jl:86 overwritten at /Users/irita/Documents/Master/Research/PhD_research/BNP/Code - Or/VersatileHDPMixtureModels.jl/src/ds.jl:86.\n",
      "  ** incremental compilation may be fatally broken for this module **\n",
      "\n",
      "WARNING: Method definition (::Type{VersatileHDPMixtureModels.model_hyper_params})(VersatileHDPMixtureModels.distribution_hyper_params, Any, Float64, Float64, Float64, Float64, Float64, Int64, Int64) in module VersatileHDPMixtureModels at /Users/irita/Documents/Master/Research/PhD_research/BNP/Code - Or/VersatileHDPMixtureModels.jl/src/ds.jl:10 overwritten at /Users/irita/Documents/Master/Research/PhD_research/BNP/Code - Or/VersatileHDPMixtureModels.jl/src/ds.jl:10.\n",
      "  ** incremental compilation may be fatally broken for this module **\n",
      "\n",
      "WARNING: Method definition (::Type{VersatileHDPMixtureModels.model_hyper_params})(Any, Any, Any, Any, Any, Any, Any, Any, Any) in module VersatileHDPMixtureModels at /Users/irita/Documents/Master/Research/PhD_research/BNP/Code - Or/VersatileHDPMixtureModels.jl/src/ds.jl:10 overwritten at /Users/irita/Documents/Master/Research/PhD_research/BNP/Code - Or/VersatileHDPMixtureModels.jl/src/ds.jl:10.\n",
      "  ** incremental compilation may be fatally broken for this module **\n",
      "\n",
      "WARNING: Method definition (::Type{VersatileHDPMixtureModels.cluster_parameters})(VersatileHDPMixtureModels.distribution_hyper_params, VersatileHDPMixtureModels.distibution_sample, VersatileHDPMixtureModels.sufficient_statistics, VersatileHDPMixtureModels.distribution_hyper_params) in module VersatileHDPMixtureModels at /Users/irita/Documents/Master/Research/PhD_research/BNP/Code - Or/VersatileHDPMixtureModels.jl/src/ds.jl:22 overwritten at /Users/irita/Documents/Master/Research/PhD_research/BNP/Code - Or/VersatileHDPMixtureModels.jl/src/ds.jl:22.\n",
      "  ** incremental compilation may be fatally broken for this module **\n",
      "\n",
      "WARNING: Method definition (::Type{VersatileHDPMixtureModels.cluster_parameters})(Any, Any, Any, Any) in module VersatileHDPMixtureModels at /Users/irita/Documents/Master/Research/PhD_research/BNP/Code - Or/VersatileHDPMixtureModels.jl/src/ds.jl:22 overwritten at /Users/irita/Documents/Master/Research/PhD_research/BNP/Code - Or/VersatileHDPMixtureModels.jl/src/ds.jl:22.\n",
      "  ** incremental compilation may be fatally broken for this module **\n",
      "\n",
      "WARNING: Method definition (::Type{VersatileHDPMixtureModels.splittable_cluster_params})(VersatileHDPMixtureModels.cluster_parameters, VersatileHDPMixtureModels.cluster_parameters, VersatileHDPMixtureModels.cluster_parameters, AbstractArray{Float64, 1}, Bool, AbstractArray{Float64, 1}) in module VersatileHDPMixtureModels at /Users/irita/Documents/Master/Research/PhD_research/BNP/Code - Or/VersatileHDPMixtureModels.jl/src/ds.jl:29 overwritten at /Users/irita/Documents/Master/Research/PhD_research/BNP/Code - Or/VersatileHDPMixtureModels.jl/src/ds.jl:29.\n",
      "  ** incremental compilation may be fatally broken for this module **\n",
      "\n",
      "WARNING: Method definition (::Type{VersatileHDPMixtureModels.splittable_cluster_params})(Any, Any, Any, Any, Any, Any) in module VersatileHDPMixtureModels at /Users/irita/Documents/Master/Research/PhD_research/BNP/Code - Or/VersatileHDPMixtureModels.jl/src/ds.jl:29 overwritten at /Users/irita/Documents/Master/Research/PhD_research/BNP/Code - Or/VersatileHDPMixtureModels.jl/src/ds.jl:29.\n",
      "  ** incremental compilation may be fatally broken for this module **\n",
      "\n",
      "WARNING: Method definition (::Type{VersatileHDPMixtureModels.global_cluster})(VersatileHDPMixtureModels.splittable_cluster_params, Int64, Int64, Int64, Int64, AbstractArray{Int64, 1}) in module VersatileHDPMixtureModels at /Users/irita/Documents/Master/Research/PhD_research/BNP/Code - Or/VersatileHDPMixtureModels.jl/src/ds.jl:38 overwritten at /Users/irita/Documents/Master/Research/PhD_research/BNP/Code - Or/VersatileHDPMixtureModels.jl/src/ds.jl:38.\n",
      "  ** incremental compilation may be fatally broken for this module **\n",
      "\n",
      "WARNING: Method definition (::Type{VersatileHDPMixtureModels.global_cluster})(Any, Any, Any, Any, Any, Any) in module VersatileHDPMixtureModels at /Users/irita/Documents/Master/Research/PhD_research/BNP/Code - Or/VersatileHDPMixtureModels.jl/src/ds.jl:38 overwritten at /Users/irita/Documents/Master/Research/PhD_research/BNP/Code - Or/VersatileHDPMixtureModels.jl/src/ds.jl:38.\n",
      "  ** incremental compilation may be fatally broken for this module **\n",
      "\n",
      "WARNING: Method definition (::Type{VersatileHDPMixtureModels.local_cluster})(VersatileHDPMixtureModels.splittable_cluster_params, Int64, Int64, Int64, Float64, Float64, Int64, Int64, AbstractArray{Int64, 1}) in module VersatileHDPMixtureModels at /Users/irita/Documents/Master/Research/PhD_research/BNP/Code - Or/VersatileHDPMixtureModels.jl/src/ds.jl:47 overwritten at /Users/irita/Documents/Master/Research/PhD_research/BNP/Code - Or/VersatileHDPMixtureModels.jl/src/ds.jl:47.\n",
      "  ** incremental compilation may be fatally broken for this module **\n",
      "\n",
      "WARNING: Method definition (::Type{VersatileHDPMixtureModels.local_cluster})(Any, Any, Any, Any, Any, Any, Any, Any, Any) in module VersatileHDPMixtureModels at /Users/irita/Documents/Master/Research/PhD_research/BNP/Code - Or/VersatileHDPMixtureModels.jl/src/ds.jl:47 overwritten at /Users/irita/Documents/Master/Research/PhD_research/BNP/Code - Or/VersatileHDPMixtureModels.jl/src/ds.jl:47.\n",
      "  ** incremental compilation may be fatally broken for this module **\n",
      "\n"
     ]
    },
    {
     "name": "stderr",
     "output_type": "stream",
     "text": [
      "WARNING: Method definition (::Type{VersatileHDPMixtureModels.local_group})(VersatileHDPMixtureModels.model_hyper_params, AbstractArray{Float64, 2}, AbstractArray{Int64, 2}, AbstractArray{Int64, 2}, Array{VersatileHDPMixtureModels.local_cluster, 1}, Array{Float64, 1}, Int64) in module VersatileHDPMixtureModels at /Users/irita/Documents/Master/Research/PhD_research/BNP/Code - Or/VersatileHDPMixtureModels.jl/src/ds.jl:59 overwritten at /Users/irita/Documents/Master/Research/PhD_research/BNP/Code - Or/VersatileHDPMixtureModels.jl/src/ds.jl:59.\n",
      "  ** incremental compilation may be fatally broken for this module **\n",
      "\n",
      "WARNING: Method definition (::Type{VersatileHDPMixtureModels.local_group})(Any, Any, Any, Any, Any, Any, Any) in module VersatileHDPMixtureModels at /Users/irita/Documents/Master/Research/PhD_research/BNP/Code - Or/VersatileHDPMixtureModels.jl/src/ds.jl:59 overwritten at /Users/irita/Documents/Master/Research/PhD_research/BNP/Code - Or/VersatileHDPMixtureModels.jl/src/ds.jl:59.\n",
      "  ** incremental compilation may be fatally broken for this module **\n",
      "\n",
      "WARNING: Method definition (::Type{VersatileHDPMixtureModels.local_group_stats})(AbstractArray{Int64, 2}, AbstractArray{Int64, 2}, Array{VersatileHDPMixtureModels.local_cluster, 1}) in module VersatileHDPMixtureModels at /Users/irita/Documents/Master/Research/PhD_research/BNP/Code - Or/VersatileHDPMixtureModels.jl/src/ds.jl:69 overwritten at /Users/irita/Documents/Master/Research/PhD_research/BNP/Code - Or/VersatileHDPMixtureModels.jl/src/ds.jl:69.\n",
      "  ** incremental compilation may be fatally broken for this module **\n",
      "\n",
      "WARNING: Method definition (::Type{VersatileHDPMixtureModels.local_group_stats})(Any, Any, Any) in module VersatileHDPMixtureModels at /Users/irita/Documents/Master/Research/PhD_research/BNP/Code - Or/VersatileHDPMixtureModels.jl/src/ds.jl:69 overwritten at /Users/irita/Documents/Master/Research/PhD_research/BNP/Code - Or/VersatileHDPMixtureModels.jl/src/ds.jl:69.\n",
      "  ** incremental compilation may be fatally broken for this module **\n",
      "\n",
      "WARNING: Method definition (::Type{VersatileHDPMixtureModels.hdp_shared_features})(VersatileHDPMixtureModels.model_hyper_params, Base.Dict{K, V} where V where K, Array{VersatileHDPMixtureModels.global_cluster, 1}, AbstractArray{Float64, 1}) in module VersatileHDPMixtureModels at /Users/irita/Documents/Master/Research/PhD_research/BNP/Code - Or/VersatileHDPMixtureModels.jl/src/ds.jl:76 overwritten at /Users/irita/Documents/Master/Research/PhD_research/BNP/Code - Or/VersatileHDPMixtureModels.jl/src/ds.jl:76.\n",
      "  ** incremental compilation may be fatally broken for this module **\n",
      "\n",
      "WARNING: Method definition (::Type{VersatileHDPMixtureModels.hdp_shared_features})(Any, Any, Any, Any) in module VersatileHDPMixtureModels at /Users/irita/Documents/Master/Research/PhD_research/BNP/Code - Or/VersatileHDPMixtureModels.jl/src/ds.jl:76 overwritten at /Users/irita/Documents/Master/Research/PhD_research/BNP/Code - Or/VersatileHDPMixtureModels.jl/src/ds.jl:76.\n",
      "  ** incremental compilation may be fatally broken for this module **\n",
      "\n",
      "WARNING: Method definition copy_local_cluster(VersatileHDPMixtureModels.local_cluster) in module VersatileHDPMixtureModels at /Users/irita/Documents/Master/Research/PhD_research/BNP/Code - Or/VersatileHDPMixtureModels.jl/src/ds.jl:82 overwritten at /Users/irita/Documents/Master/Research/PhD_research/BNP/Code - Or/VersatileHDPMixtureModels.jl/src/ds.jl:82.\n",
      "  ** incremental compilation may be fatally broken for this module **\n",
      "\n",
      "WARNING: Method definition update_group_from_stats!(VersatileHDPMixtureModels.local_group, VersatileHDPMixtureModels.local_group_stats) in module VersatileHDPMixtureModels at /Users/irita/Documents/Master/Research/PhD_research/BNP/Code - Or/VersatileHDPMixtureModels.jl/src/ds.jl:86 overwritten at /Users/irita/Documents/Master/Research/PhD_research/BNP/Code - Or/VersatileHDPMixtureModels.jl/src/ds.jl:86.\n",
      "  ** incremental compilation may be fatally broken for this module **\n",
      "\n",
      "WARNING: Method definition log_multivariate_gamma(Number, Number) in module VersatileHDPMixtureModels at /Users/irita/Documents/Master/Research/PhD_research/BNP/Code - Or/VersatileHDPMixtureModels.jl/src/priors/compact_mnm_prior.jl:33 overwritten at /Users/irita/Documents/Master/Research/PhD_research/BNP/Code - Or/VersatileHDPMixtureModels.jl/src/utils.jl:242.\n",
      "  ** incremental compilation may be fatally broken for this module **\n",
      "\n"
     ]
    },
    {
     "ename": "LoadError",
     "evalue": "On worker 2:\nArgumentError: Package VersatileHDPMixtureModels [cb401d7d-c4f9-4284-af24-a1eca280e8e8] is required but does not seem to be installed:\n - Run `Pkg.instantiate()` to install all recorded dependencies.\n\n_require at ./loading.jl:999\nrequire at ./loading.jl:928\n#1 at /Users/julia/buildbot/worker/package_macos64/build/usr/share/julia/stdlib/v1.5/Distributed/src/Distributed.jl:78\n#103 at /Users/julia/buildbot/worker/package_macos64/build/usr/share/julia/stdlib/v1.5/Distributed/src/process_messages.jl:290\nrun_work_thunk at /Users/julia/buildbot/worker/package_macos64/build/usr/share/julia/stdlib/v1.5/Distributed/src/process_messages.jl:79\nrun_work_thunk at /Users/julia/buildbot/worker/package_macos64/build/usr/share/julia/stdlib/v1.5/Distributed/src/process_messages.jl:88\n#96 at ./task.jl:356\n\n...and 3 more exception(s).\n",
     "output_type": "error",
     "traceback": [
      "On worker 2:\nArgumentError: Package VersatileHDPMixtureModels [cb401d7d-c4f9-4284-af24-a1eca280e8e8] is required but does not seem to be installed:\n - Run `Pkg.instantiate()` to install all recorded dependencies.\n\n_require at ./loading.jl:999\nrequire at ./loading.jl:928\n#1 at /Users/julia/buildbot/worker/package_macos64/build/usr/share/julia/stdlib/v1.5/Distributed/src/Distributed.jl:78\n#103 at /Users/julia/buildbot/worker/package_macos64/build/usr/share/julia/stdlib/v1.5/Distributed/src/process_messages.jl:290\nrun_work_thunk at /Users/julia/buildbot/worker/package_macos64/build/usr/share/julia/stdlib/v1.5/Distributed/src/process_messages.jl:79\nrun_work_thunk at /Users/julia/buildbot/worker/package_macos64/build/usr/share/julia/stdlib/v1.5/Distributed/src/process_messages.jl:88\n#96 at ./task.jl:356\n\n...and 3 more exception(s).\n",
      "",
      "Stacktrace:",
      " [1] sync_end(::Channel{Any}) at ./task.jl:314",
      " [2] macro expansion at ./task.jl:333 [inlined]",
      " [3] _require_callback(::Base.PkgId) at /Users/julia/buildbot/worker/package_macos64/build/usr/share/julia/stdlib/v1.5/Distributed/src/Distributed.jl:75",
      " [4] #invokelatest#1 at ./essentials.jl:710 [inlined]",
      " [5] invokelatest at ./essentials.jl:709 [inlined]",
      " [6] require(::Base.PkgId) at ./loading.jl:931",
      " [7] require(::Module, ::Symbol) at ./loading.jl:923",
      " [8] top-level scope at /Users/julia/buildbot/worker/package_macos64/build/usr/share/julia/stdlib/v1.5/Distributed/src/macros.jl:200",
      " [9] include_string(::Function, ::Module, ::String, ::String) at ./loading.jl:1091"
     ]
    }
   ],
   "source": [
    "Pkg.instantiate()\n",
    "\n",
    "using Distributed\n",
    "addprocs(4)\n",
    "@everywhere using VersatileHDPMixtureModels"
   ]
  },
  {
   "cell_type": "code",
   "execution_count": null,
   "metadata": {},
   "outputs": [],
   "source": [
    "global_hyper_params = niw_hyperparams(1.0,\n",
    "    [47.56,45.40,27.82] ./ 25,\n",
    "    9.0,\n",
    "    [[0.8662817 0.78323282 0.41225376];\n",
    "        [0.78323282 0.74170384 0.50340258];\n",
    "        [0.41225376 0.50340258 0.79185577]]*1.0)\n",
    "\n",
    "local_hyper_params = niw_hyperparams(1.0,\n",
    "    [217.857,511.084] ./ 250,\n",
    "    5.0,\n",
    "    Matrix{Float64}(I, 2, 2)*0.2)"
   ]
  },
  {
   "cell_type": "code",
   "execution_count": null,
   "metadata": {},
   "outputs": [],
   "source": [
    "hdp, history = vhdp_fit(data,3,10.0,100.0,10.0,global_hyper_params,local_hyper_params,150)\n",
    "color_means = [(x.cluster_params.cluster_params.distribution.μ*25)/255 for x in hdp.global_clusters]\n",
    "glabels = create_global_labels(hdp.groups_dict[1])\n",
    "img = zeros(size(pixels_to_super1,1),size(pixels_to_super1,2),3)\n",
    "for i=1:size(pixels_to_super1,1)\n",
    "    for j=1:size(pixels_to_super1,2)\n",
    "        img[i,j,:] = color_means[glabels[(pixels_to_super1)[i,j]+1]]\n",
    "    end\n",
    "end\n",
    "image1 = img[:,:,[3,2,1]]\n",
    "image1 = permutedims(image1,[3,1,2])\n",
    "glabels = create_global_labels(hdp.groups_dict[2])\n",
    "img = zeros(size(pixels_to_super2,1),size(pixels_to_super2,2),3)\n",
    "for i=1:size(pixels_to_super2,1)\n",
    "    for j=1:size(pixels_to_super2,2)\n",
    "        img[i,j,:] = color_means[glabels[(pixels_to_super2)[i,j]+1]]\n",
    "    end\n",
    "end\n",
    "image2 = img[:,:,[3,2,1]]\n",
    "image2 = permutedims(image2,[3,1,2])\n",
    "\n",
    "glabels = create_global_labels(hdp.groups_dict[3])\n",
    "img = zeros(size(pixels_to_super3,1),size(pixels_to_super3,2),3)\n",
    "for i=1:size(pixels_to_super3,1)\n",
    "    for j=1:size(pixels_to_super3,2)\n",
    "        img[i,j,:] = color_means[glabels[(pixels_to_super3)[i,j]+1]]\n",
    "    end\n",
    "end\n",
    "image3 = img[:,:,[3,2,1]]\n",
    "image3 = permutedims(image3,[3,1,2])\n"
   ]
  },
  {
   "cell_type": "code",
   "execution_count": null,
   "metadata": {},
   "outputs": [],
   "source": [
    "colorview(RGB,image1)"
   ]
  },
  {
   "cell_type": "code",
   "execution_count": null,
   "metadata": {},
   "outputs": [],
   "source": [
    "colorview(RGB,image2)"
   ]
  },
  {
   "cell_type": "code",
   "execution_count": null,
   "metadata": {},
   "outputs": [],
   "source": [
    "colorview(RGB,image3)"
   ]
  }
 ],
 "metadata": {
  "kernelspec": {
   "display_name": "Julia 1.5.2",
   "language": "julia",
   "name": "julia-1.5"
  },
  "language_info": {
   "file_extension": ".jl",
   "mimetype": "application/julia",
   "name": "julia",
   "version": "1.5.2"
  }
 },
 "nbformat": 4,
 "nbformat_minor": 2
}
